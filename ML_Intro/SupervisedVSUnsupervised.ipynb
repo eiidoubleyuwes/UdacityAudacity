{
 "cells": [
  {
   "cell_type": "code",
   "id": "initial_id",
   "metadata": {
    "collapsed": true,
    "jupyter": {
     "is_executing": true
    }
   },
   "source": [
    "#Supervised Example\n",
    "# Import necessary libraries\n",
    "import pandas as pd\n",
    "import numpy as np\n",
    "import matplotlib.pyplot as plt\n",
    "import seaborn as sns\n",
    "import warnings\n",
    "from sklearn.model_selection import train_test_split\n",
    "from sklearn.ensemble import RandomForestRegressor\n",
    "from sklearn.metrics import mean_squared_error\n",
    "\n",
    "warnings.filterwarnings('ignore')\n",
    "\n",
    "# Generate synthetic dataset for building features and energy efficiency ratings\n",
    "np.random.seed(0)\n",
    "data_size = 500\n",
    "data = {\n",
    "    'WallArea': np.random.randint(200, 400, data_size),\n",
    "    'RoofArea': np.random.randint(100, 200, data_size),\n",
    "    'OverallHeight': np.random.uniform(3, 10, data_size),\n",
    "    'GlazingArea': np.random.uniform(0, 1, data_size),\n",
    "    'EnergyEfficiency': np.random.uniform(10, 50, data_size)  # Energy efficiency rating\n",
    "}\n",
    "df = pd.DataFrame(data)\n",
    "\n",
    "# Data preprocessing\n",
    "X = df.drop('EnergyEfficiency', axis=1)\n",
    "y = df['EnergyEfficiency']\n",
    "\n",
    "# Visualize the relationships between features and the target variable (Energy Efficiency)\n",
    "sns.pairplot(df, x_vars=['WallArea', 'RoofArea', 'OverallHeight', 'GlazingArea'], y_vars='EnergyEfficiency', height=4, aspect=1, kind='scatter')\n",
    "plt.show()\n",
    "\n",
    "# Split the data into training and testing sets\n",
    "X_train, X_test, y_train, y_test = train_test_split(X, y, test_size=0.2, random_state=42)\n",
    "\n",
    "# Train a Random Forest model\n",
    "model = RandomForestRegressor()\n",
    "model.fit(X_train, y_train)\n",
    "\n",
    "# Predict and evaluate\n",
    "predictions = model.predict(X_test)\n",
    "mse = mean_squared_error(y_test, predictions)\n",
    "print(f\"Mean Squared Error: {mse}\")\n",
    "\n",
    "# Plot the True values vs Predicted values\n",
    "plt.figure(figsize=(10, 6))\n",
    "plt.scatter(y_test, predictions)\n",
    "plt.xlabel(\"True Values\")\n",
    "plt.ylabel(\"Predictions\")\n",
    "plt.title(\"True Values vs Predicted Values\")\n",
    "plt.plot([y_test.min(), y_test.max()], [y_test.min(), y_test.max()], 'k--')\n",
    "plt.show()"
   ],
   "outputs": [],
   "execution_count": null
  },
  {
   "metadata": {
    "jupyter": {
     "is_executing": true
    }
   },
   "cell_type": "code",
   "source": [
    "#Unsupervised Example\n",
    "# Import necessary libraries\n",
    "import pandas as pd\n",
    "import numpy as np\n",
    "import matplotlib.pyplot as plt\n",
    "import warnings\n",
    "from sklearn.cluster import KMeans\n",
    "\n",
    "warnings.filterwarnings('ignore')\n",
    "\n",
    "# Generate synthetic dataset for vehicles\n",
    "np.random.seed(0)\n",
    "data_size = 300\n",
    "data = {\n",
    "    'Weight': np.random.randint(1000, 3000, data_size),\n",
    "    'EngineSize': np.random.uniform(1.0, 4.0, data_size),\n",
    "    'Horsepower': np.random.randint(50, 300, data_size)\n",
    "}\n",
    "df = pd.DataFrame(data)\n",
    "\n",
    "# No labels are needed for unsupervised learning\n",
    "X = df\n",
    "\n",
    "# Perform KMeans clustering\n",
    "kmeans = KMeans(n_clusters=3, random_state=42)\n",
    "kmeans.fit(X)\n",
    "\n",
    "# Plotting the clusters\n",
    "plt.scatter(df['Weight'], df['Horsepower'], c=kmeans.labels_)\n",
    "plt.xlabel('Weight')\n",
    "plt.ylabel('Horsepower')\n",
    "plt.title('Vehicle Clusters')\n",
    "plt.show()"
   ],
   "id": "cc3272ec99e2f2e6",
   "outputs": [],
   "execution_count": null
  }
 ],
 "metadata": {
  "kernelspec": {
   "display_name": "Python 3",
   "language": "python",
   "name": "python3"
  },
  "language_info": {
   "codemirror_mode": {
    "name": "ipython",
    "version": 2
   },
   "file_extension": ".py",
   "mimetype": "text/x-python",
   "name": "python",
   "nbconvert_exporter": "python",
   "pygments_lexer": "ipython2",
   "version": "2.7.6"
  }
 },
 "nbformat": 4,
 "nbformat_minor": 5
}
